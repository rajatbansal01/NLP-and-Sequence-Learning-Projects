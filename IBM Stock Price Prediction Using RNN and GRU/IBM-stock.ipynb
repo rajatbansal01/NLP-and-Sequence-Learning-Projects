{
  "nbformat": 4,
  "nbformat_minor": 0,
  "metadata": {
    "colab": {
      "name": "ipynb1.ipynb",
      "provenance": [],
      "collapsed_sections": []
    },
    "kernelspec": {
      "name": "python3",
      "display_name": "Python 3"
    },
    "language_info": {
      "name": "python"
    }
  },
  "cells": [
    {
      "cell_type": "markdown",
      "metadata": {
        "id": "lTZgWUnWFPGk"
      },
      "source": [
        "### Importing necessary packages"
      ]
    },
    {
      "cell_type": "code",
      "metadata": {
        "id": "6TBE57I70jpK"
      },
      "source": [
        "import numpy as np\n",
        "import matplotlib.pyplot as plt\n",
        "plt.style.use('fivethirtyeight')\n",
        "import pandas as pd\n",
        "from sklearn.preprocessing import MinMaxScaler\n",
        "import tensorflow\n",
        "from tensorflow.keras.models import Sequential\n",
        "from tensorflow.keras.layers import Dense, LSTM, Dropout, GRU, Bidirectional,SimpleRNN\n",
        "from tensorflow.keras.optimizers import SGD\n",
        "import math\n",
        "from sklearn.metrics import mean_squared_error"
      ],
      "execution_count": 1,
      "outputs": []
    },
    {
      "cell_type": "markdown",
      "metadata": {
        "id": "2EZfSs7sFXCj"
      },
      "source": [
        "### Load Dataset"
      ]
    },
    {
      "cell_type": "code",
      "metadata": {
        "colab": {
          "base_uri": "https://localhost:8080/",
          "height": 234
        },
        "id": "2MoXWb0I0pLj",
        "outputId": "a129187d-0ad4-40eb-c47f-0076a58e7db7"
      },
      "source": [
        "dataset = pd.read_csv(\"/content/IBM_2006-01-01_to_2018-01-01.csv\", index_col=\"Date\", parse_dates=['Date'])\n",
        "dataset.head()"
      ],
      "execution_count": 17,
      "outputs": [
        {
          "output_type": "execute_result",
          "data": {
            "text/html": [
              "<div>\n",
              "<style scoped>\n",
              "    .dataframe tbody tr th:only-of-type {\n",
              "        vertical-align: middle;\n",
              "    }\n",
              "\n",
              "    .dataframe tbody tr th {\n",
              "        vertical-align: top;\n",
              "    }\n",
              "\n",
              "    .dataframe thead th {\n",
              "        text-align: right;\n",
              "    }\n",
              "</style>\n",
              "<table border=\"1\" class=\"dataframe\">\n",
              "  <thead>\n",
              "    <tr style=\"text-align: right;\">\n",
              "      <th></th>\n",
              "      <th>Open</th>\n",
              "      <th>High</th>\n",
              "      <th>Low</th>\n",
              "      <th>Close</th>\n",
              "      <th>Volume</th>\n",
              "      <th>Name</th>\n",
              "    </tr>\n",
              "    <tr>\n",
              "      <th>Date</th>\n",
              "      <th></th>\n",
              "      <th></th>\n",
              "      <th></th>\n",
              "      <th></th>\n",
              "      <th></th>\n",
              "      <th></th>\n",
              "    </tr>\n",
              "  </thead>\n",
              "  <tbody>\n",
              "    <tr>\n",
              "      <th>2006-01-03</th>\n",
              "      <td>82.45</td>\n",
              "      <td>82.55</td>\n",
              "      <td>80.81</td>\n",
              "      <td>82.06</td>\n",
              "      <td>11715200</td>\n",
              "      <td>IBM</td>\n",
              "    </tr>\n",
              "    <tr>\n",
              "      <th>2006-01-04</th>\n",
              "      <td>82.20</td>\n",
              "      <td>82.50</td>\n",
              "      <td>81.33</td>\n",
              "      <td>81.95</td>\n",
              "      <td>9840600</td>\n",
              "      <td>IBM</td>\n",
              "    </tr>\n",
              "    <tr>\n",
              "      <th>2006-01-05</th>\n",
              "      <td>81.40</td>\n",
              "      <td>82.90</td>\n",
              "      <td>81.00</td>\n",
              "      <td>82.50</td>\n",
              "      <td>7213500</td>\n",
              "      <td>IBM</td>\n",
              "    </tr>\n",
              "    <tr>\n",
              "      <th>2006-01-06</th>\n",
              "      <td>83.95</td>\n",
              "      <td>85.03</td>\n",
              "      <td>83.41</td>\n",
              "      <td>84.95</td>\n",
              "      <td>8197400</td>\n",
              "      <td>IBM</td>\n",
              "    </tr>\n",
              "    <tr>\n",
              "      <th>2006-01-09</th>\n",
              "      <td>84.10</td>\n",
              "      <td>84.25</td>\n",
              "      <td>83.38</td>\n",
              "      <td>83.73</td>\n",
              "      <td>6858200</td>\n",
              "      <td>IBM</td>\n",
              "    </tr>\n",
              "  </tbody>\n",
              "</table>\n",
              "</div>"
            ],
            "text/plain": [
              "             Open   High    Low  Close    Volume Name\n",
              "Date                                                 \n",
              "2006-01-03  82.45  82.55  80.81  82.06  11715200  IBM\n",
              "2006-01-04  82.20  82.50  81.33  81.95   9840600  IBM\n",
              "2006-01-05  81.40  82.90  81.00  82.50   7213500  IBM\n",
              "2006-01-06  83.95  85.03  83.41  84.95   8197400  IBM\n",
              "2006-01-09  84.10  84.25  83.38  83.73   6858200  IBM"
            ]
          },
          "metadata": {
            "tags": []
          },
          "execution_count": 17
        }
      ]
    },
    {
      "cell_type": "code",
      "metadata": {
        "colab": {
          "base_uri": "https://localhost:8080/"
        },
        "id": "8Sfh9eE20z5K",
        "outputId": "92b045f0-a5e9-4520-c947-7d3f50f961d8"
      },
      "source": [
        "dataset.index"
      ],
      "execution_count": 14,
      "outputs": [
        {
          "output_type": "execute_result",
          "data": {
            "text/plain": [
              "DatetimeIndex(['2006-01-03', '2006-01-04', '2006-01-05', '2006-01-06',\n",
              "               '2006-01-09', '2006-01-10', '2006-01-11', '2006-01-12',\n",
              "               '2006-01-13', '2006-01-17',\n",
              "               ...\n",
              "               '2017-12-15', '2017-12-18', '2017-12-19', '2017-12-20',\n",
              "               '2017-12-21', '2017-12-22', '2017-12-26', '2017-12-27',\n",
              "               '2017-12-28', '2017-12-29'],\n",
              "              dtype='datetime64[ns]', name='Date', length=3020, freq=None)"
            ]
          },
          "metadata": {
            "tags": []
          },
          "execution_count": 14
        }
      ]
    },
    {
      "cell_type": "code",
      "metadata": {
        "id": "K6TBmrAK-542"
      },
      "source": [
        "training_set = dataset[:'2017'].iloc[:,1:2].values\n",
        "test_set = dataset['2017':].iloc[:,1:2].values"
      ],
      "execution_count": 20,
      "outputs": []
    },
    {
      "cell_type": "code",
      "metadata": {
        "colab": {
          "base_uri": "https://localhost:8080/",
          "height": 286
        },
        "id": "8bKNHSpl5GpP",
        "outputId": "75cd6bca-d638-448a-e498-d05fbd22cce0"
      },
      "source": [
        "dataset[\"High\"][:'2017'].plot(figsize=(16,4),legend=True)\n",
        "dataset[\"High\"]['2017':].plot(figsize=(16,4),legend=True)\n",
        "plt.legend(['Training set (Before 2017)','Test set (2017 and beyond)'])\n",
        "plt.title('IBM stock price')\n",
        "plt.show()"
      ],
      "execution_count": 43,
      "outputs": [
        {
          "output_type": "display_data",
          "data": {
            "image/png": "[encoded data removed]",
            "text/plain": [
              "<Figure size 1152x288 with 1 Axes>"
            ]
          },
          "metadata": {
            "tags": [],
            "needs_background": "light"
          }
        }
      ]
    },
    {
      "cell_type": "code",
      "metadata": {
        "id": "FaT-Zwq0_X7z"
      },
      "source": [
        "sc = MinMaxScaler(feature_range=(0,1))\n",
        "training_set_scaled = sc.fit_transform(training_set)"
      ],
      "execution_count": 23,
      "outputs": []
    },
    {
      "cell_type": "code",
      "metadata": {
        "id": "SKL20A3s_hg7"
      },
      "source": [
        "X_train = []\n",
        "y_train = []\n",
        "for i in range(60,1250):\n",
        "    X_train.append(training_set_scaled[i-60:i,0])\n",
        "    y_train.append(training_set_scaled[i,0])\n",
        "X_train, y_train = np.array(X_train), np.array(y_train)"
      ],
      "execution_count": 24,
      "outputs": []
    },
    {
      "cell_type": "code",
      "metadata": {
        "colab": {
          "base_uri": "https://localhost:8080/"
        },
        "id": "kooLYyIN_kpj",
        "outputId": "c0d80455-c8a9-4f67-fd02-7cc7ae825b0b"
      },
      "source": [
        "i=100\n",
        "training_set_scaled[i-60:i,0].shape"
      ],
      "execution_count": 25,
      "outputs": [
        {
          "output_type": "execute_result",
          "data": {
            "text/plain": [
              "(60,)"
            ]
          },
          "metadata": {
            "tags": []
          },
          "execution_count": 25
        }
      ]
    },
    {
      "cell_type": "code",
      "metadata": {
        "id": "lZ1AlX4n_ndc"
      },
      "source": [
        "X_train = np.reshape(X_train, (X_train.shape[0],X_train.shape[1],1))"
      ],
      "execution_count": 26,
      "outputs": []
    },
    {
      "cell_type": "code",
      "metadata": {
        "id": "quGU0hno_1Xu"
      },
      "source": [
        "dataset_total = pd.concat((dataset[\"High\"][:'2017'],dataset[\"High\"]['2017':]),axis=0)\n",
        "inputs = dataset_total[len(dataset_total)-len(test_set) - 60:].values\n",
        "inputs = inputs.reshape(-1,1)\n",
        "inputs  = sc.transform(inputs)"
      ],
      "execution_count": 29,
      "outputs": []
    },
    {
      "cell_type": "markdown",
      "metadata": {
        "id": "8MnJdQTGFK_J"
      },
      "source": [
        "#MODEL BUILDING"
      ]
    },
    {
      "cell_type": "code",
      "metadata": {
        "id": "os3ZzHBiCEqI"
      },
      "source": [
        "model = Sequential()\n",
        "# First GRU layer with Dropout regularisation\n",
        "model.add(SimpleRNN(50, return_sequences=True, input_shape=(X_train.shape[1],1), activation='tanh'))\n",
        "model.add(Dropout(0.2))\n",
        "# Second GRU layer\n",
        "model.add(SimpleRNN(50, return_sequences=True, input_shape=(X_train.shape[1],1), activation='tanh'))\n",
        "model.add(Dropout(0.2))\n",
        "# Third GRU layer\n",
        "model.add(GRU(units=50, return_sequences=True, input_shape=(X_train.shape[1],1), activation='tanh'))\n",
        "model.add(Dropout(0.2))\n",
        "# Fourth GRU layer\n",
        "model.add(GRU(units=50, activation='tanh'))\n",
        "model.add(Dropout(0.2))\n",
        "# The output layer\n",
        "model.add(Dense(units=1))"
      ],
      "execution_count": 33,
      "outputs": []
    },
    {
      "cell_type": "code",
      "metadata": {
        "colab": {
          "base_uri": "https://localhost:8080/"
        },
        "id": "SG70pH9vDRBY",
        "outputId": "7833aa59-ada8-4e0a-d252-588c458fec9e"
      },
      "source": [
        "model.summary()"
      ],
      "execution_count": 34,
      "outputs": [
        {
          "output_type": "stream",
          "text": [
            "Model: \"sequential_1\"\n",
            "_________________________________________________________________\n",
            "Layer (type)                 Output Shape              Param #   \n",
            "=================================================================\n",
            "simple_rnn_2 (SimpleRNN)     (None, 60, 50)            2600      \n",
            "_________________________________________________________________\n",
            "dropout_4 (Dropout)          (None, 60, 50)            0         \n",
            "_________________________________________________________________\n",
            "simple_rnn_3 (SimpleRNN)     (None, 60, 50)            5050      \n",
            "_________________________________________________________________\n",
            "dropout_5 (Dropout)          (None, 60, 50)            0         \n",
            "_________________________________________________________________\n",
            "gru_2 (GRU)                  (None, 60, 50)            15300     \n",
            "_________________________________________________________________\n",
            "dropout_6 (Dropout)          (None, 60, 50)            0         \n",
            "_________________________________________________________________\n",
            "gru_3 (GRU)                  (None, 50)                15300     \n",
            "_________________________________________________________________\n",
            "dropout_7 (Dropout)          (None, 50)                0         \n",
            "_________________________________________________________________\n",
            "dense_1 (Dense)              (None, 1)                 51        \n",
            "=================================================================\n",
            "Total params: 38,301\n",
            "Trainable params: 38,301\n",
            "Non-trainable params: 0\n",
            "_________________________________________________________________\n"
          ],
          "name": "stdout"
        }
      ]
    },
    {
      "cell_type": "code",
      "metadata": {
        "colab": {
          "base_uri": "https://localhost:8080/"
        },
        "id": "C06tBZXgDWLC",
        "outputId": "06969b46-ea1b-4726-8455-d75f58fd82d4"
      },
      "source": [
        "# Compiling the GRU\n",
        "model.compile(optimizer=SGD(lr=0.01, decay=1e-7, momentum=0.9, nesterov=False),loss='mean_squared_error')\n",
        "# Fitting to the training set\n",
        "model.fit(X_train,y_train,epochs=50,batch_size=150)"
      ],
      "execution_count": 36,
      "outputs": [
        {
          "output_type": "stream",
          "text": [
            "/usr/local/lib/python3.7/dist-packages/tensorflow/python/keras/optimizer_v2/optimizer_v2.py:375: UserWarning: The `lr` argument is deprecated, use `learning_rate` instead.\n",
            "  \"The `lr` argument is deprecated, use `learning_rate` instead.\")\n"
          ],
          "name": "stderr"
        },
        {
          "output_type": "stream",
          "text": [
            "Epoch 1/50\n",
            "8/8 [==============================] - 6s 166ms/step - loss: 0.0252\n",
            "Epoch 2/50\n",
            "8/8 [==============================] - 1s 166ms/step - loss: 0.0130\n",
            "Epoch 3/50\n",
            "8/8 [==============================] - 1s 165ms/step - loss: 0.0088\n",
            "Epoch 4/50\n",
            "8/8 [==============================] - 1s 167ms/step - loss: 0.0071\n",
            "Epoch 5/50\n",
            "8/8 [==============================] - 1s 167ms/step - loss: 0.0054\n",
            "Epoch 6/50\n",
            "8/8 [==============================] - 1s 164ms/step - loss: 0.0043\n",
            "Epoch 7/50\n",
            "8/8 [==============================] - 1s 174ms/step - loss: 0.0044\n",
            "Epoch 8/50\n",
            "8/8 [==============================] - 1s 164ms/step - loss: 0.0040\n",
            "Epoch 9/50\n",
            "8/8 [==============================] - 1s 169ms/step - loss: 0.0036\n",
            "Epoch 10/50\n",
            "8/8 [==============================] - 1s 172ms/step - loss: 0.0034\n",
            "Epoch 11/50\n",
            "8/8 [==============================] - 1s 162ms/step - loss: 0.0033\n",
            "Epoch 12/50\n",
            "8/8 [==============================] - 1s 166ms/step - loss: 0.0031\n",
            "Epoch 13/50\n",
            "8/8 [==============================] - 1s 165ms/step - loss: 0.0029\n",
            "Epoch 14/50\n",
            "8/8 [==============================] - 1s 168ms/step - loss: 0.0030\n",
            "Epoch 15/50\n",
            "8/8 [==============================] - 1s 166ms/step - loss: 0.0031\n",
            "Epoch 16/50\n",
            "8/8 [==============================] - 1s 166ms/step - loss: 0.0026\n",
            "Epoch 17/50\n",
            "8/8 [==============================] - 1s 166ms/step - loss: 0.0028\n",
            "Epoch 18/50\n",
            "8/8 [==============================] - 1s 168ms/step - loss: 0.0026\n",
            "Epoch 19/50\n",
            "8/8 [==============================] - 1s 164ms/step - loss: 0.0027\n",
            "Epoch 20/50\n",
            "8/8 [==============================] - 1s 169ms/step - loss: 0.0026\n",
            "Epoch 21/50\n",
            "8/8 [==============================] - 1s 167ms/step - loss: 0.0024\n",
            "Epoch 22/50\n",
            "8/8 [==============================] - 1s 164ms/step - loss: 0.0023\n",
            "Epoch 23/50\n",
            "8/8 [==============================] - 1s 170ms/step - loss: 0.0022\n",
            "Epoch 24/50\n",
            "8/8 [==============================] - 1s 165ms/step - loss: 0.0024\n",
            "Epoch 25/50\n",
            "8/8 [==============================] - 1s 166ms/step - loss: 0.0024\n",
            "Epoch 26/50\n",
            "8/8 [==============================] - 1s 169ms/step - loss: 0.0024\n",
            "Epoch 27/50\n",
            "8/8 [==============================] - 1s 168ms/step - loss: 0.0021\n",
            "Epoch 28/50\n",
            "8/8 [==============================] - 1s 165ms/step - loss: 0.0020\n",
            "Epoch 29/50\n",
            "8/8 [==============================] - 1s 171ms/step - loss: 0.0021\n",
            "Epoch 30/50\n",
            "8/8 [==============================] - 1s 166ms/step - loss: 0.0021\n",
            "Epoch 31/50\n",
            "8/8 [==============================] - 1s 167ms/step - loss: 0.0020\n",
            "Epoch 32/50\n",
            "8/8 [==============================] - 1s 169ms/step - loss: 0.0020\n",
            "Epoch 33/50\n",
            "8/8 [==============================] - 1s 168ms/step - loss: 0.0020\n",
            "Epoch 34/50\n",
            "8/8 [==============================] - 1s 165ms/step - loss: 0.0019\n",
            "Epoch 35/50\n",
            "8/8 [==============================] - 1s 168ms/step - loss: 0.0020\n",
            "Epoch 36/50\n",
            "8/8 [==============================] - 1s 166ms/step - loss: 0.0018\n",
            "Epoch 37/50\n",
            "8/8 [==============================] - 1s 168ms/step - loss: 0.0019\n",
            "Epoch 38/50\n",
            "8/8 [==============================] - 1s 168ms/step - loss: 0.0018\n",
            "Epoch 39/50\n",
            "8/8 [==============================] - 1s 169ms/step - loss: 0.0019\n",
            "Epoch 40/50\n",
            "8/8 [==============================] - 1s 166ms/step - loss: 0.0019\n",
            "Epoch 41/50\n",
            "8/8 [==============================] - 1s 167ms/step - loss: 0.0018\n",
            "Epoch 42/50\n",
            "8/8 [==============================] - 1s 168ms/step - loss: 0.0018\n",
            "Epoch 43/50\n",
            "8/8 [==============================] - 1s 168ms/step - loss: 0.0017\n",
            "Epoch 44/50\n",
            "8/8 [==============================] - 1s 166ms/step - loss: 0.0018\n",
            "Epoch 45/50\n",
            "8/8 [==============================] - 1s 167ms/step - loss: 0.0016\n",
            "Epoch 46/50\n",
            "8/8 [==============================] - 1s 167ms/step - loss: 0.0017\n",
            "Epoch 47/50\n",
            "8/8 [==============================] - 1s 167ms/step - loss: 0.0017\n",
            "Epoch 48/50\n",
            "8/8 [==============================] - 1s 165ms/step - loss: 0.0016\n",
            "Epoch 49/50\n",
            "8/8 [==============================] - 1s 167ms/step - loss: 0.0016\n",
            "Epoch 50/50\n",
            "8/8 [==============================] - 1s 165ms/step - loss: 0.0016\n"
          ],
          "name": "stdout"
        },
        {
          "output_type": "execute_result",
          "data": {
            "text/plain": [
              "<tensorflow.python.keras.callbacks.History at 0x7fa9b1a04c50>"
            ]
          },
          "metadata": {
            "tags": []
          },
          "execution_count": 36
        }
      ]
    },
    {
      "cell_type": "code",
      "metadata": {
        "id": "rw-IaqKADfUT"
      },
      "source": [
        "X_test = []\n",
        "for i in range(60,311):\n",
        "    X_test.append(inputs[i-60:i,0])\n",
        "X_test = np.array(X_test)\n",
        "X_test = np.reshape(X_test, (X_test.shape[0],X_test.shape[1],1))\n",
        "GRU_predicted_stock_price = regressorGRU.predict(X_test)\n",
        "GRU_predicted_stock_price = sc.inverse_transform(GRU_predicted_stock_price)"
      ],
      "execution_count": 37,
      "outputs": []
    },
    {
      "cell_type": "code",
      "metadata": {
        "id": "Vc2l-uOBEi8K"
      },
      "source": [
        "def predictions_plot(test,predicted):\n",
        "    plt.plot(test, color='red',label='Real IBM Stock Price')\n",
        "    plt.plot(predicted, color='blue',label='Predicted IBM Stock Price')\n",
        "    plt.title('IBM Stock Price Prediction')\n",
        "    plt.xlabel('Time')\n",
        "    plt.ylabel('IBM Stock Price')\n",
        "    plt.legend()\n",
        "    plt.show()\n",
        "\n",
        "def rmse_return(test,predicted):\n",
        "    rmse = math.sqrt(mean_squared_error(test, predicted))\n",
        "    print(\"The root mean squared error is {}.\".format(rmse))"
      ],
      "execution_count": 41,
      "outputs": []
    },
    {
      "cell_type": "code",
      "metadata": {
        "colab": {
          "base_uri": "https://localhost:8080/",
          "height": 296
        },
        "id": "sVzC8VfGElSQ",
        "outputId": "dcf2162a-bb2a-4b16-ddb6-c9911b5b37ca"
      },
      "source": [
        "predictions_plot(test_set,GRU_predicted_stock_price)"
      ],
      "execution_count": 42,
      "outputs": [
        {
          "output_type": "display_data",
          "data": {
            "image/png": "[encoded data removed]",
            "text/plain": [
              "<Figure size 432x288 with 1 Axes>"
            ]
          },
          "metadata": {
            "tags": [],
            "needs_background": "light"
          }
        }
      ]
    },
    {
      "cell_type": "markdown",
      "metadata": {
        "id": "eoCiZJovFhOd"
      },
      "source": [
        "### Model Evaluation"
      ]
    },
    {
      "cell_type": "code",
      "metadata": {
        "colab": {
          "base_uri": "https://localhost:8080/"
        },
        "id": "5k8HtKovE0DK",
        "outputId": "ae0bd0af-078b-4aca-95b7-b9466b62ef7e"
      },
      "source": [
        "rmse_return(test_set,GRU_predicted_stock_price)"
      ],
      "execution_count": 44,
      "outputs": [
        {
          "output_type": "stream",
          "text": [
            "The root mean squared error is 9.173292235908283.\n"
          ],
          "name": "stdout"
        }
      ]
    },
    {
      "cell_type": "code",
      "metadata": {
        "id": "RPJPxoXJFfgF"
      },
      "source": [
        ""
      ],
      "execution_count": null,
      "outputs": []
    }
  ]
}